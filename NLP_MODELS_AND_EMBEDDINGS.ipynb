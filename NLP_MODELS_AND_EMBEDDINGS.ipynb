{
  "nbformat": 4,
  "nbformat_minor": 0,
  "metadata": {
    "colab": {
      "name": "NLP_MODELS_AND_EMBEDDINGS.ipynb",
      "provenance": [],
      "collapsed_sections": []
    },
    "kernelspec": {
      "display_name": "Python 3",
      "name": "python3"
    },
    "language_info": {
      "name": "python"
    }
  },
  "cells": [
    {
      "cell_type": "markdown",
      "metadata": {
        "id": "eNfryzrW_G_8"
      },
      "source": [
        "IMPORTING LIBRARIES"
      ]
    },
    {
      "cell_type": "code",
      "metadata": {
        "id": "sNYB0-aVSN7c"
      },
      "source": [
        "import pandas as pd\n",
        "import pandas as pd\n",
        "import numpy as np\n",
        "import seaborn as sns\n",
        "from nltk.corpus import stopwords\n",
        "from nltk.tokenize import word_tokenize\n",
        "import matplotlib.pyplot as plt\n",
        "import nltk\n",
        "from nltk.corpus import stopwords\n",
        "import pickle\n",
        "from sklearn.model_selection import train_test_split\n",
        "from sklearn.naive_bayes import MultinomialNB\n",
        "from sklearn.metrics import classification_report, accuracy_score, confusion_matrix\n",
        "from sklearn.svm import SVC\n",
        "from sklearn.linear_model import LogisticRegression\n",
        "from sklearn.tree import DecisionTreeClassifier\n",
        "from sklearn.ensemble import RandomForestClassifier\n",
        "\n",
        "from tensorflow.keras.layers import Embedding,LSTM,Dense,Dropout,Bidirectional\n",
        "from tensorflow.keras.preprocessing.sequence import pad_sequences\n",
        "from tensorflow.keras.models import Sequential\n",
        "from tensorflow.keras.preprocessing.text import one_hot\n",
        "import gensim.downloader as api\n",
        "from gensim.models import Word2Vec\n",
        "from gensim.models import KeyedVectors\n",
        "from gensim.scripts.glove2word2vec import glove2word2vec\n",
        "\n",
        "from keras.preprocessing.text import Tokenizer\n",
        "from tensorflow.keras.utils import to_categorical\n",
        "from keras.preprocessing.sequence import pad_sequences\n",
        "\n",
        "from sklearn.feature_extraction.text import TfidfVectorizer\n",
        "from sklearn.feature_extraction.text import CountVectorizer"
      ],
      "execution_count": null,
      "outputs": []
    },
    {
      "cell_type": "code",
      "metadata": {
        "id": "GYiNs_zVPxPk"
      },
      "source": [
        ""
      ],
      "execution_count": null,
      "outputs": []
    },
    {
      "cell_type": "code",
      "metadata": {
        "id": "YJdKG2_2QSm1"
      },
      "source": [
        ""
      ],
      "execution_count": null,
      "outputs": []
    },
    {
      "cell_type": "code",
      "metadata": {
        "id": "sFX_C1v8ULB8",
        "colab": {
          "base_uri": "https://localhost:8080/"
        },
        "outputId": "f45f33b1-4636-4890-d9a6-18639adc9913"
      },
      "source": [
        "from google.colab import drive\n",
        "drive.mount('/content/drive')"
      ],
      "execution_count": null,
      "outputs": [
        {
          "output_type": "stream",
          "name": "stdout",
          "text": [
            "Drive already mounted at /content/drive; to attempt to forcibly remount, call drive.mount(\"/content/drive\", force_remount=True).\n"
          ]
        }
      ]
    },
    {
      "cell_type": "code",
      "metadata": {
        "id": "zv_mCs5LUMG3"
      },
      "source": [
        "#IMPORTING TRAINING DATA SET.\n",
        "fake_news_data = pd.read_csv('/content/drive/MyDrive/fake_news_NLP_Project/train.csv')"
      ],
      "execution_count": null,
      "outputs": []
    },
    {
      "cell_type": "code",
      "metadata": {
        "id": "GartA3UAYPTZ",
        "colab": {
          "base_uri": "https://localhost:8080/",
          "height": 423
        },
        "outputId": "a6255e4e-57c8-4a17-f61c-b1148fcc95d3"
      },
      "source": [
        "fake_news_data"
      ],
      "execution_count": null,
      "outputs": [
        {
          "output_type": "execute_result",
          "data": {
            "text/html": [
              "<div>\n",
              "<style scoped>\n",
              "    .dataframe tbody tr th:only-of-type {\n",
              "        vertical-align: middle;\n",
              "    }\n",
              "\n",
              "    .dataframe tbody tr th {\n",
              "        vertical-align: top;\n",
              "    }\n",
              "\n",
              "    .dataframe thead th {\n",
              "        text-align: right;\n",
              "    }\n",
              "</style>\n",
              "<table border=\"1\" class=\"dataframe\">\n",
              "  <thead>\n",
              "    <tr style=\"text-align: right;\">\n",
              "      <th></th>\n",
              "      <th>id</th>\n",
              "      <th>title</th>\n",
              "      <th>author</th>\n",
              "      <th>text</th>\n",
              "      <th>label</th>\n",
              "    </tr>\n",
              "  </thead>\n",
              "  <tbody>\n",
              "    <tr>\n",
              "      <th>0</th>\n",
              "      <td>0</td>\n",
              "      <td>House Dem Aide: We Didn’t Even See Comey’s Let...</td>\n",
              "      <td>Darrell Lucus</td>\n",
              "      <td>House Dem Aide: We Didn’t Even See Comey’s Let...</td>\n",
              "      <td>1</td>\n",
              "    </tr>\n",
              "    <tr>\n",
              "      <th>1</th>\n",
              "      <td>1</td>\n",
              "      <td>FLYNN: Hillary Clinton, Big Woman on Campus - ...</td>\n",
              "      <td>Daniel J. Flynn</td>\n",
              "      <td>Ever get the feeling your life circles the rou...</td>\n",
              "      <td>0</td>\n",
              "    </tr>\n",
              "    <tr>\n",
              "      <th>2</th>\n",
              "      <td>2</td>\n",
              "      <td>Why the Truth Might Get You Fired</td>\n",
              "      <td>Consortiumnews.com</td>\n",
              "      <td>Why the Truth Might Get You Fired October 29, ...</td>\n",
              "      <td>1</td>\n",
              "    </tr>\n",
              "    <tr>\n",
              "      <th>3</th>\n",
              "      <td>3</td>\n",
              "      <td>15 Civilians Killed In Single US Airstrike Hav...</td>\n",
              "      <td>Jessica Purkiss</td>\n",
              "      <td>Videos 15 Civilians Killed In Single US Airstr...</td>\n",
              "      <td>1</td>\n",
              "    </tr>\n",
              "    <tr>\n",
              "      <th>4</th>\n",
              "      <td>4</td>\n",
              "      <td>Iranian woman jailed for fictional unpublished...</td>\n",
              "      <td>Howard Portnoy</td>\n",
              "      <td>Print \\nAn Iranian woman has been sentenced to...</td>\n",
              "      <td>1</td>\n",
              "    </tr>\n",
              "    <tr>\n",
              "      <th>...</th>\n",
              "      <td>...</td>\n",
              "      <td>...</td>\n",
              "      <td>...</td>\n",
              "      <td>...</td>\n",
              "      <td>...</td>\n",
              "    </tr>\n",
              "    <tr>\n",
              "      <th>20795</th>\n",
              "      <td>20795</td>\n",
              "      <td>Rapper T.I.: Trump a ’Poster Child For White S...</td>\n",
              "      <td>Jerome Hudson</td>\n",
              "      <td>Rapper T. I. unloaded on black celebrities who...</td>\n",
              "      <td>0</td>\n",
              "    </tr>\n",
              "    <tr>\n",
              "      <th>20796</th>\n",
              "      <td>20796</td>\n",
              "      <td>N.F.L. Playoffs: Schedule, Matchups and Odds -...</td>\n",
              "      <td>Benjamin Hoffman</td>\n",
              "      <td>When the Green Bay Packers lost to the Washing...</td>\n",
              "      <td>0</td>\n",
              "    </tr>\n",
              "    <tr>\n",
              "      <th>20797</th>\n",
              "      <td>20797</td>\n",
              "      <td>Macy’s Is Said to Receive Takeover Approach by...</td>\n",
              "      <td>Michael J. de la Merced and Rachel Abrams</td>\n",
              "      <td>The Macy’s of today grew from the union of sev...</td>\n",
              "      <td>0</td>\n",
              "    </tr>\n",
              "    <tr>\n",
              "      <th>20798</th>\n",
              "      <td>20798</td>\n",
              "      <td>NATO, Russia To Hold Parallel Exercises In Bal...</td>\n",
              "      <td>Alex Ansary</td>\n",
              "      <td>NATO, Russia To Hold Parallel Exercises In Bal...</td>\n",
              "      <td>1</td>\n",
              "    </tr>\n",
              "    <tr>\n",
              "      <th>20799</th>\n",
              "      <td>20799</td>\n",
              "      <td>What Keeps the F-35 Alive</td>\n",
              "      <td>David Swanson</td>\n",
              "      <td>David Swanson is an author, activist, journa...</td>\n",
              "      <td>1</td>\n",
              "    </tr>\n",
              "  </tbody>\n",
              "</table>\n",
              "<p>20800 rows × 5 columns</p>\n",
              "</div>"
            ],
            "text/plain": [
              "          id  ... label\n",
              "0          0  ...     1\n",
              "1          1  ...     0\n",
              "2          2  ...     1\n",
              "3          3  ...     1\n",
              "4          4  ...     1\n",
              "...      ...  ...   ...\n",
              "20795  20795  ...     0\n",
              "20796  20796  ...     0\n",
              "20797  20797  ...     0\n",
              "20798  20798  ...     1\n",
              "20799  20799  ...     1\n",
              "\n",
              "[20800 rows x 5 columns]"
            ]
          },
          "metadata": {},
          "execution_count": 5
        }
      ]
    },
    {
      "cell_type": "markdown",
      "metadata": {
        "id": "gGpx2J1__jru"
      },
      "source": [
        "DATA PRE PROCESSING"
      ]
    },
    {
      "cell_type": "code",
      "metadata": {
        "id": "u61WoYpqYtHo"
      },
      "source": [
        "fake_news_data = fake_news_data.dropna(subset=['label'], axis=0)\n",
        "fake_news_data = fake_news_data.dropna(how=\"all\")"
      ],
      "execution_count": null,
      "outputs": []
    },
    {
      "cell_type": "code",
      "metadata": {
        "id": "KOcycBvBZoJd",
        "colab": {
          "base_uri": "https://localhost:8080/",
          "height": 423
        },
        "outputId": "1d9134d7-571f-46df-a246-4ef1830fb4c8"
      },
      "source": [
        "df = fake_news_data.copy() \n",
        "df"
      ],
      "execution_count": null,
      "outputs": [
        {
          "output_type": "execute_result",
          "data": {
            "text/html": [
              "<div>\n",
              "<style scoped>\n",
              "    .dataframe tbody tr th:only-of-type {\n",
              "        vertical-align: middle;\n",
              "    }\n",
              "\n",
              "    .dataframe tbody tr th {\n",
              "        vertical-align: top;\n",
              "    }\n",
              "\n",
              "    .dataframe thead th {\n",
              "        text-align: right;\n",
              "    }\n",
              "</style>\n",
              "<table border=\"1\" class=\"dataframe\">\n",
              "  <thead>\n",
              "    <tr style=\"text-align: right;\">\n",
              "      <th></th>\n",
              "      <th>id</th>\n",
              "      <th>title</th>\n",
              "      <th>author</th>\n",
              "      <th>text</th>\n",
              "      <th>label</th>\n",
              "    </tr>\n",
              "  </thead>\n",
              "  <tbody>\n",
              "    <tr>\n",
              "      <th>0</th>\n",
              "      <td>0</td>\n",
              "      <td>House Dem Aide: We Didn’t Even See Comey’s Let...</td>\n",
              "      <td>Darrell Lucus</td>\n",
              "      <td>House Dem Aide: We Didn’t Even See Comey’s Let...</td>\n",
              "      <td>1</td>\n",
              "    </tr>\n",
              "    <tr>\n",
              "      <th>1</th>\n",
              "      <td>1</td>\n",
              "      <td>FLYNN: Hillary Clinton, Big Woman on Campus - ...</td>\n",
              "      <td>Daniel J. Flynn</td>\n",
              "      <td>Ever get the feeling your life circles the rou...</td>\n",
              "      <td>0</td>\n",
              "    </tr>\n",
              "    <tr>\n",
              "      <th>2</th>\n",
              "      <td>2</td>\n",
              "      <td>Why the Truth Might Get You Fired</td>\n",
              "      <td>Consortiumnews.com</td>\n",
              "      <td>Why the Truth Might Get You Fired October 29, ...</td>\n",
              "      <td>1</td>\n",
              "    </tr>\n",
              "    <tr>\n",
              "      <th>3</th>\n",
              "      <td>3</td>\n",
              "      <td>15 Civilians Killed In Single US Airstrike Hav...</td>\n",
              "      <td>Jessica Purkiss</td>\n",
              "      <td>Videos 15 Civilians Killed In Single US Airstr...</td>\n",
              "      <td>1</td>\n",
              "    </tr>\n",
              "    <tr>\n",
              "      <th>4</th>\n",
              "      <td>4</td>\n",
              "      <td>Iranian woman jailed for fictional unpublished...</td>\n",
              "      <td>Howard Portnoy</td>\n",
              "      <td>Print \\nAn Iranian woman has been sentenced to...</td>\n",
              "      <td>1</td>\n",
              "    </tr>\n",
              "    <tr>\n",
              "      <th>...</th>\n",
              "      <td>...</td>\n",
              "      <td>...</td>\n",
              "      <td>...</td>\n",
              "      <td>...</td>\n",
              "      <td>...</td>\n",
              "    </tr>\n",
              "    <tr>\n",
              "      <th>20795</th>\n",
              "      <td>20795</td>\n",
              "      <td>Rapper T.I.: Trump a ’Poster Child For White S...</td>\n",
              "      <td>Jerome Hudson</td>\n",
              "      <td>Rapper T. I. unloaded on black celebrities who...</td>\n",
              "      <td>0</td>\n",
              "    </tr>\n",
              "    <tr>\n",
              "      <th>20796</th>\n",
              "      <td>20796</td>\n",
              "      <td>N.F.L. Playoffs: Schedule, Matchups and Odds -...</td>\n",
              "      <td>Benjamin Hoffman</td>\n",
              "      <td>When the Green Bay Packers lost to the Washing...</td>\n",
              "      <td>0</td>\n",
              "    </tr>\n",
              "    <tr>\n",
              "      <th>20797</th>\n",
              "      <td>20797</td>\n",
              "      <td>Macy’s Is Said to Receive Takeover Approach by...</td>\n",
              "      <td>Michael J. de la Merced and Rachel Abrams</td>\n",
              "      <td>The Macy’s of today grew from the union of sev...</td>\n",
              "      <td>0</td>\n",
              "    </tr>\n",
              "    <tr>\n",
              "      <th>20798</th>\n",
              "      <td>20798</td>\n",
              "      <td>NATO, Russia To Hold Parallel Exercises In Bal...</td>\n",
              "      <td>Alex Ansary</td>\n",
              "      <td>NATO, Russia To Hold Parallel Exercises In Bal...</td>\n",
              "      <td>1</td>\n",
              "    </tr>\n",
              "    <tr>\n",
              "      <th>20799</th>\n",
              "      <td>20799</td>\n",
              "      <td>What Keeps the F-35 Alive</td>\n",
              "      <td>David Swanson</td>\n",
              "      <td>David Swanson is an author, activist, journa...</td>\n",
              "      <td>1</td>\n",
              "    </tr>\n",
              "  </tbody>\n",
              "</table>\n",
              "<p>20800 rows × 5 columns</p>\n",
              "</div>"
            ],
            "text/plain": [
              "          id  ... label\n",
              "0          0  ...     1\n",
              "1          1  ...     0\n",
              "2          2  ...     1\n",
              "3          3  ...     1\n",
              "4          4  ...     1\n",
              "...      ...  ...   ...\n",
              "20795  20795  ...     0\n",
              "20796  20796  ...     0\n",
              "20797  20797  ...     0\n",
              "20798  20798  ...     1\n",
              "20799  20799  ...     1\n",
              "\n",
              "[20800 rows x 5 columns]"
            ]
          },
          "metadata": {},
          "execution_count": 7
        }
      ]
    },
    {
      "cell_type": "code",
      "metadata": {
        "id": "FG_9PHFKZrds"
      },
      "source": [
        "df['title'] = df['title'].fillna(\" \") "
      ],
      "execution_count": null,
      "outputs": []
    },
    {
      "cell_type": "code",
      "metadata": {
        "id": "wrz4ablAbmrS"
      },
      "source": [
        "df['author'] = df['author'].fillna(\" \")\n",
        "df['text'] = df['text'].fillna(\" \")"
      ],
      "execution_count": null,
      "outputs": []
    },
    {
      "cell_type": "markdown",
      "metadata": {
        "id": "Va18WgC6_pnI"
      },
      "source": [
        "DATA STATISTICS"
      ]
    },
    {
      "cell_type": "code",
      "metadata": {
        "id": "oK7vBYRXnhc9",
        "colab": {
          "base_uri": "https://localhost:8080/"
        },
        "outputId": "8680741e-92ef-482f-88a3-7da1d78092cc"
      },
      "source": [
        "ttl = [titl for titl in df.title]\n",
        "max_len_ttl = 0\n",
        "ttl_len = []\n",
        "for title in ttl:\n",
        "    ttl_len.append(len(title.split()))\n",
        "    max_len_ttl = max(len(title.split()), max_len_ttl)\n",
        "\n",
        "\n",
        "txt = [text for text in df.text]\n",
        "max_len_txt = 0\n",
        "txt_len = []\n",
        "for text in txt:\n",
        "    txt_len.append(len(text.split()))\n",
        "    max_len_txt = max(len(text.split()), max_len_txt)\n",
        "\n",
        "print('Number of titles:', len(ttl))\n",
        "print('Max length of the titles:', max_len_ttl)\n",
        "print('Mean length of the titles:', np.mean(ttl_len))\n",
        "\n",
        "print('Max length of the text:', max_len_txt)\n",
        "print('Mean length of the text:', np.mean(txt_len))"
      ],
      "execution_count": null,
      "outputs": [
        {
          "output_type": "stream",
          "name": "stdout",
          "text": [
            "Number of titles: 20800\n",
            "Max length of the titles: 72\n",
            "Mean length of the titles: 12.0875\n",
            "Max length of the text: 24234\n",
            "Mean length of the text: 758.8825480769231\n"
          ]
        }
      ]
    },
    {
      "cell_type": "markdown",
      "metadata": {
        "id": "h6wRPgVy_sfL"
      },
      "source": [
        "GRAPHS FOR TITLES"
      ]
    },
    {
      "cell_type": "code",
      "metadata": {
        "id": "qUBb4GFInr5o",
        "colab": {
          "base_uri": "https://localhost:8080/",
          "height": 340
        },
        "outputId": "9fe0e1ab-05a3-47fd-d75a-d227ffefc4b3"
      },
      "source": [
        "plt.figure(figsize=(20,5))\n",
        "g = sns.countplot(x=ttl_len)\n",
        "g.set_xticklabels(g.get_xticklabels(), rotation=50)\n",
        "plt.xlabel('Title Length')\n",
        "plt.show()\n"
      ],
      "execution_count": null,
      "outputs": [
        {
          "output_type": "display_data",
          "data": {
            "image/png": "[encoded data removed]",
            "text/plain": [
              "<Figure size 1440x360 with 1 Axes>"
            ]
          },
          "metadata": {
            "needs_background": "light"
          }
        }
      ]
    },
    {
      "cell_type": "markdown",
      "metadata": {
        "id": "Xo3QInxX_zSs"
      },
      "source": [
        "CONCATINATING 3 DATA SETS "
      ]
    },
    {
      "cell_type": "code",
      "metadata": {
        "id": "HuAq3nyBcIKS"
      },
      "source": [
        "df['fake_news_data'] = df['title'] + \" \" + df['author'] + \" \" + df['text']"
      ],
      "execution_count": null,
      "outputs": []
    },
    {
      "cell_type": "code",
      "metadata": {
        "id": "IU2vQYmZcwqG",
        "colab": {
          "base_uri": "https://localhost:8080/",
          "height": 269
        },
        "outputId": "deb5daa1-a6a8-4910-d725-750ba9f0fdde"
      },
      "source": [
        "df.head(7)"
      ],
      "execution_count": null,
      "outputs": [
        {
          "output_type": "execute_result",
          "data": {
            "text/html": [
              "<div>\n",
              "<style scoped>\n",
              "    .dataframe tbody tr th:only-of-type {\n",
              "        vertical-align: middle;\n",
              "    }\n",
              "\n",
              "    .dataframe tbody tr th {\n",
              "        vertical-align: top;\n",
              "    }\n",
              "\n",
              "    .dataframe thead th {\n",
              "        text-align: right;\n",
              "    }\n",
              "</style>\n",
              "<table border=\"1\" class=\"dataframe\">\n",
              "  <thead>\n",
              "    <tr style=\"text-align: right;\">\n",
              "      <th></th>\n",
              "      <th>id</th>\n",
              "      <th>title</th>\n",
              "      <th>author</th>\n",
              "      <th>text</th>\n",
              "      <th>label</th>\n",
              "      <th>fake_news_data</th>\n",
              "    </tr>\n",
              "  </thead>\n",
              "  <tbody>\n",
              "    <tr>\n",
              "      <th>0</th>\n",
              "      <td>0</td>\n",
              "      <td>House Dem Aide: We Didn’t Even See Comey’s Let...</td>\n",
              "      <td>Darrell Lucus</td>\n",
              "      <td>House Dem Aide: We Didn’t Even See Comey’s Let...</td>\n",
              "      <td>1</td>\n",
              "      <td>House Dem Aide: We Didn’t Even See Comey’s Let...</td>\n",
              "    </tr>\n",
              "    <tr>\n",
              "      <th>1</th>\n",
              "      <td>1</td>\n",
              "      <td>FLYNN: Hillary Clinton, Big Woman on Campus - ...</td>\n",
              "      <td>Daniel J. Flynn</td>\n",
              "      <td>Ever get the feeling your life circles the rou...</td>\n",
              "      <td>0</td>\n",
              "      <td>FLYNN: Hillary Clinton, Big Woman on Campus - ...</td>\n",
              "    </tr>\n",
              "    <tr>\n",
              "      <th>2</th>\n",
              "      <td>2</td>\n",
              "      <td>Why the Truth Might Get You Fired</td>\n",
              "      <td>Consortiumnews.com</td>\n",
              "      <td>Why the Truth Might Get You Fired October 29, ...</td>\n",
              "      <td>1</td>\n",
              "      <td>Why the Truth Might Get You Fired Consortiumne...</td>\n",
              "    </tr>\n",
              "    <tr>\n",
              "      <th>3</th>\n",
              "      <td>3</td>\n",
              "      <td>15 Civilians Killed In Single US Airstrike Hav...</td>\n",
              "      <td>Jessica Purkiss</td>\n",
              "      <td>Videos 15 Civilians Killed In Single US Airstr...</td>\n",
              "      <td>1</td>\n",
              "      <td>15 Civilians Killed In Single US Airstrike Hav...</td>\n",
              "    </tr>\n",
              "    <tr>\n",
              "      <th>4</th>\n",
              "      <td>4</td>\n",
              "      <td>Iranian woman jailed for fictional unpublished...</td>\n",
              "      <td>Howard Portnoy</td>\n",
              "      <td>Print \\nAn Iranian woman has been sentenced to...</td>\n",
              "      <td>1</td>\n",
              "      <td>Iranian woman jailed for fictional unpublished...</td>\n",
              "    </tr>\n",
              "    <tr>\n",
              "      <th>5</th>\n",
              "      <td>5</td>\n",
              "      <td>Jackie Mason: Hollywood Would Love Trump if He...</td>\n",
              "      <td>Daniel Nussbaum</td>\n",
              "      <td>In these trying times, Jackie Mason is the Voi...</td>\n",
              "      <td>0</td>\n",
              "      <td>Jackie Mason: Hollywood Would Love Trump if He...</td>\n",
              "    </tr>\n",
              "    <tr>\n",
              "      <th>6</th>\n",
              "      <td>6</td>\n",
              "      <td>Life: Life Of Luxury: Elton John’s 6 Favorite ...</td>\n",
              "      <td></td>\n",
              "      <td>Ever wonder how Britain’s most iconic pop pian...</td>\n",
              "      <td>1</td>\n",
              "      <td>Life: Life Of Luxury: Elton John’s 6 Favorite ...</td>\n",
              "    </tr>\n",
              "  </tbody>\n",
              "</table>\n",
              "</div>"
            ],
            "text/plain": [
              "   id  ...                                     fake_news_data\n",
              "0   0  ...  House Dem Aide: We Didn’t Even See Comey’s Let...\n",
              "1   1  ...  FLYNN: Hillary Clinton, Big Woman on Campus - ...\n",
              "2   2  ...  Why the Truth Might Get You Fired Consortiumne...\n",
              "3   3  ...  15 Civilians Killed In Single US Airstrike Hav...\n",
              "4   4  ...  Iranian woman jailed for fictional unpublished...\n",
              "5   5  ...  Jackie Mason: Hollywood Would Love Trump if He...\n",
              "6   6  ...  Life: Life Of Luxury: Elton John’s 6 Favorite ...\n",
              "\n",
              "[7 rows x 6 columns]"
            ]
          },
          "metadata": {},
          "execution_count": 14
        }
      ]
    },
    {
      "cell_type": "code",
      "metadata": {
        "id": "2DtKNOSpzkpe"
      },
      "source": [
        "X = df.drop(columns = ['label', 'title', 'author', 'text', 'id'])\n",
        "y = df['label']"
      ],
      "execution_count": null,
      "outputs": []
    },
    {
      "cell_type": "markdown",
      "metadata": {
        "id": "JB6ATt5w__TW"
      },
      "source": [
        "REMOVING PUNCTUATIONS AND STOP WORDS"
      ]
    },
    {
      "cell_type": "code",
      "metadata": {
        "id": "3XaMcstHcyLg",
        "colab": {
          "base_uri": "https://localhost:8080/"
        },
        "outputId": "95bdb922-7681-4a6a-e1be-fc620552103f"
      },
      "source": [
        "from nltk.stem.porter import PorterStemmer\n",
        "import re\n",
        "cache = set(stopwords.words(\"english\"))\n",
        "print(cache)\n",
        "def pre_processing(msg) :\n",
        "  corpus_test = []\n",
        "  for i in range(len(msg)):\n",
        "    review = re.sub('[^a-zA-Z]',' ',msg[i])\n",
        "    review = review.lower()\n",
        "    review = review.split()\n",
        "    review = [word for word in review if not word in cache]\n",
        "    review = ' '.join(review)\n",
        "    corpus_test.append(review)\n",
        "\n",
        "  return corpus_test"
      ],
      "execution_count": null,
      "outputs": [
        {
          "output_type": "stream",
          "name": "stdout",
          "text": [
            "{'they', \"you'll\", 'into', \"mustn't\", 'should', 'which', 'of', 'aren', 'over', 'ain', 'weren', 'himself', 'me', 's', 'off', 'then', 're', 'couldn', 'an', 'below', 'wasn', 'he', \"haven't\", 'such', \"wasn't\", \"shan't\", 'above', 'but', 'you', 'didn', 'our', 'being', 'on', 'won', 'don', \"aren't\", 'about', 'its', 'up', 'is', 'ma', 'my', \"you'd\", 'have', 'him', 'both', \"should've\", 'having', 'who', 'until', 'them', \"didn't\", \"it's\", 'd', 'only', 'ourselves', 'no', 'and', 'y', 'nor', 'yourself', 'under', 'their', 'than', 'not', 'shan', 'if', 'at', 'she', 'to', 'now', 'does', 'doing', 'or', 'hasn', \"you're\", \"wouldn't\", \"don't\", \"weren't\", \"she's\", 'a', 'while', 'myself', 'hadn', 'in', 'most', 'be', 'i', 'themselves', 'yours', 'hers', 'his', 'we', \"hadn't\", 'each', 't', 'for', 'what', 'am', 'had', 'where', 'how', 'wouldn', 'against', 'that', 'further', 'has', 'll', 'any', 'these', 'few', 'mightn', \"that'll\", 'this', 'own', 'it', 'ours', 'once', 'her', 'down', \"shouldn't\", 'between', 'herself', \"isn't\", 'here', 'too', 'so', \"hasn't\", 'there', 'shouldn', 'just', 'o', 'those', 'been', 'why', \"you've\", 'was', 'the', 'your', \"doesn't\", \"won't\", 've', 'are', 'very', 'doesn', 'whom', 'same', 'more', 'out', 'were', \"mightn't\", 'will', 'by', 'm', 'can', 'needn', 'again', 'because', 'with', 'did', 'when', 'mustn', 'itself', 'yourselves', 'after', \"needn't\", 'theirs', 'from', 'haven', 'other', 'before', 'some', 'as', 'during', 'isn', \"couldn't\", 'do', 'through', 'all'}\n"
          ]
        }
      ]
    },
    {
      "cell_type": "code",
      "metadata": {
        "id": "Vtftz561wc-t"
      },
      "source": [
        "corpus =  pre_processing(X['fake_news_data'])\n"
      ],
      "execution_count": null,
      "outputs": []
    },
    {
      "cell_type": "markdown",
      "metadata": {
        "id": "ppE3f0ZsAjdr"
      },
      "source": [
        "APPLYING TFIDF VECTORIZER"
      ]
    },
    {
      "cell_type": "code",
      "metadata": {
        "id": "T8Z__-k685OW"
      },
      "source": [
        "tfidf = TfidfVectorizer(max_features=5000, ngram_range=(1,3))"
      ],
      "execution_count": null,
      "outputs": []
    },
    {
      "cell_type": "code",
      "metadata": {
        "id": "aQuR6KroILeI"
      },
      "source": [
        "x = tfidf.fit_transform(corpus)"
      ],
      "execution_count": null,
      "outputs": []
    },
    {
      "cell_type": "code",
      "metadata": {
        "id": "pwpaoYFgKIm-"
      },
      "source": [
        "pickle.dump(x, open('/content/drive/MyDrive/fake_news_NLP_Project/Vectorizer/tfidf.pickle', 'wb'))"
      ],
      "execution_count": null,
      "outputs": []
    },
    {
      "cell_type": "code",
      "metadata": {
        "id": "XrTi69CcYPi5"
      },
      "source": [
        "# x = pickle.load(open('/content/drive/MyDrive/Vectorizer/tfidf.pickle', 'rb'))"
      ],
      "execution_count": null,
      "outputs": []
    },
    {
      "cell_type": "code",
      "metadata": {
        "id": "EV1jJJx3hleB"
      },
      "source": [
        "models_score = {}\n",
        "models_cm = {}"
      ],
      "execution_count": null,
      "outputs": []
    },
    {
      "cell_type": "code",
      "metadata": {
        "id": "jxLa8upp_EZU"
      },
      "source": [
        "x_train , x_test, y_train, y_test = train_test_split(x, y, test_size=0.2)"
      ],
      "execution_count": null,
      "outputs": []
    },
    {
      "cell_type": "code",
      "metadata": {
        "id": "ZlsJEvA2_JyT",
        "colab": {
          "base_uri": "https://localhost:8080/"
        },
        "outputId": "929e05f6-1345-4e0e-9a8c-0946038d341e"
      },
      "source": [
        "clf= MultinomialNB()\n",
        "clf.fit(x_train, y_train)\n",
        "pred = clf.predict(x_test)\n",
        "score = accuracy_score(y_test, pred)\n",
        "print(\"accuracy:   %0.3f\" % score)\n",
        "cm = confusion_matrix(y_test,pred)\n",
        "\n",
        "filename = 'multinomialNB.sav'\n",
        "pickle.dump(clf, open('/content/drive/MyDrive/fake_news_NLP_Project/models/'+filename, 'wb'))\n",
        "models_score['Multinomial NB'] = score\n",
        "models_cm['Multinomial NB'] = cm"
      ],
      "execution_count": null,
      "outputs": [
        {
          "output_type": "stream",
          "name": "stdout",
          "text": [
            "accuracy:   0.911\n"
          ]
        }
      ]
    },
    {
      "cell_type": "code",
      "metadata": {
        "id": "d3XWFm6LGrvG",
        "colab": {
          "base_uri": "https://localhost:8080/"
        },
        "outputId": "8cc1e174-c7d6-405b-ff87-69ee5fad2d68"
      },
      "source": [
        "clf= LogisticRegression(max_iter=200)\n",
        "clf.fit(x_train, y_train)\n",
        "pred = clf.predict(x_test)\n",
        "score = accuracy_score(y_test, pred)\n",
        "print(\"accuracy:   %0.3f\" % score)\n",
        "cm = confusion_matrix(y_test,pred)\n",
        "\n",
        "filename = 'LogisticRegression.sav'\n",
        "pickle.dump(clf, open('/content/drive/MyDrive/fake_news_NLP_Project/models/'+filename, 'wb'))\n",
        "models_score['Logistic Regression'] = score\n",
        "models_cm['Logistic Regression'] = cm"
      ],
      "execution_count": null,
      "outputs": [
        {
          "output_type": "stream",
          "name": "stdout",
          "text": [
            "accuracy:   0.962\n"
          ]
        }
      ]
    },
    {
      "cell_type": "code",
      "metadata": {
        "id": "K51nDqHAGrq5",
        "colab": {
          "base_uri": "https://localhost:8080/"
        },
        "outputId": "d3ff5d6a-37eb-4ca5-d40d-a544e31d657b"
      },
      "source": [
        "clf= DecisionTreeClassifier()\n",
        "clf.fit(x_train, y_train)\n",
        "pred = clf.predict(x_test)\n",
        "score = accuracy_score(y_test, pred)\n",
        "print(\"accuracy:   %0.3f\" % score)\n",
        "cm = confusion_matrix(y_test,pred)\n",
        "\n",
        "filename = 'DecisionTreeClassifier.sav'\n",
        "pickle.dump(clf, open('/content/drive/MyDrive/fake_news_NLP_Project/models/'+filename, 'wb'))\n",
        "models_score['Decision Tree Classifier'] = score\n",
        "models_cm['Decision Tree Classifier'] = cm"
      ],
      "execution_count": null,
      "outputs": [
        {
          "output_type": "stream",
          "name": "stdout",
          "text": [
            "accuracy:   0.956\n"
          ]
        }
      ]
    },
    {
      "cell_type": "code",
      "metadata": {
        "id": "Pr8N-m0KGrHv",
        "colab": {
          "base_uri": "https://localhost:8080/"
        },
        "outputId": "893dccac-f323-403e-f478-560d99cd0045"
      },
      "source": [
        "clf= RandomForestClassifier()\n",
        "clf.fit(x_train, y_train)\n",
        "pred = clf.predict(x_test)\n",
        "score = accuracy_score(y_test, pred)\n",
        "print(\"accuracy:   %0.3f\" % score)\n",
        "cm = confusion_matrix(y_test,pred)\n",
        "\n",
        "filename = 'RandomForestClassifier.sav'\n",
        "pickle.dump(clf, open('/content/drive/MyDrive/fake_news_NLP_Project/models/'+filename, 'wb'))\n",
        "models_score['Random Forest Classifier'] = score\n",
        "models_cm['Random Forest Classifier'] = cm"
      ],
      "execution_count": null,
      "outputs": [
        {
          "output_type": "stream",
          "name": "stdout",
          "text": [
            "accuracy:   0.974\n"
          ]
        }
      ]
    },
    {
      "cell_type": "code",
      "metadata": {
        "id": "KaSxwup2GrEO",
        "colab": {
          "base_uri": "https://localhost:8080/"
        },
        "outputId": "b1b0e23b-b616-4267-edf3-a68693f1e8d9"
      },
      "source": [
        "#Passive - aggressive clasifier\n",
        "#It works by responding as passive for correct classifications and responding as aggressive for any miscalculation.\n",
        "#C : This is the regularization parameter, and denotes the penalization the model will make on an incorrect prediction\n",
        "#The regularization parameter reduces overfitting, which reduces the variance of your estimated regression parameters\n",
        "from sklearn.linear_model import PassiveAggressiveClassifier\n",
        "model_pa = PassiveAggressiveClassifier(C = 0.6, random_state = 5)\n",
        "model_pa.fit(x_train, y_train)\n",
        "test_pred = model_pa.predict(x_test)\n",
        "score = accuracy_score(y_test, test_pred)\n",
        "print(f\"Test Set Accuracy : {score} %\\n\\n\")  \n",
        "cm = confusion_matrix(y_test,pred)\n",
        "print(f\"Classification Report : \\n\\n{classification_report(y_test, test_pred)}\")\n",
        "models_score['Passive Aggressive'] = score\n",
        "models_cm['Passive Aggressive'] = cm"
      ],
      "execution_count": null,
      "outputs": [
        {
          "output_type": "stream",
          "name": "stdout",
          "text": [
            "Test Set Accuracy : 0.9658653846153846 %\n",
            "\n",
            "\n",
            "Classification Report : \n",
            "\n",
            "              precision    recall  f1-score   support\n",
            "\n",
            "           0       0.97      0.96      0.97      2057\n",
            "           1       0.97      0.97      0.97      2103\n",
            "\n",
            "    accuracy                           0.97      4160\n",
            "   macro avg       0.97      0.97      0.97      4160\n",
            "weighted avg       0.97      0.97      0.97      4160\n",
            "\n"
          ]
        }
      ]
    },
    {
      "cell_type": "code",
      "metadata": {
        "id": "n_0vNIVZv3jT"
      },
      "source": [
        ""
      ],
      "execution_count": null,
      "outputs": []
    },
    {
      "cell_type": "code",
      "metadata": {
        "id": "Pa5U2ECcv3pf"
      },
      "source": [
        "#one-hot representation\n"
      ],
      "execution_count": null,
      "outputs": []
    },
    {
      "cell_type": "code",
      "metadata": {
        "id": "oFIbYehR2RgR"
      },
      "source": [
        "vc_sz=5000\n",
        "onehot_rep = [one_hot(words, vc_sz) for words in corpus]"
      ],
      "execution_count": null,
      "outputs": []
    },
    {
      "cell_type": "code",
      "metadata": {
        "id": "yKImbSwM8N4m"
      },
      "source": [
        "embd = pad_sequences(onehot_rep, padding='pre', maxlen=100)"
      ],
      "execution_count": null,
      "outputs": []
    },
    {
      "cell_type": "code",
      "metadata": {
        "id": "0QshooAL8VC8",
        "colab": {
          "base_uri": "https://localhost:8080/"
        },
        "outputId": "a6d87ccb-f1b9-467b-8f3a-1e04bafa489e"
      },
      "source": [
        "#creating model\n",
        "model = Sequential()\n",
        "model.add(Embedding(vc_sz, 40, input_length=100))\n",
        "model.add(Dropout(0.2))\n",
        "model.add(LSTM(50))\n",
        "model.add(Dropout(0.2))\n",
        "model.add(Dense(32, activation='relu'))\n",
        "model.add(Dropout(0.1))\n",
        "model.add(Dense(1,activation='sigmoid'))\n",
        "model.compile(loss='binary_crossentropy',optimizer='adam',metrics=['accuracy'])\n",
        "print(model.summary())"
      ],
      "execution_count": null,
      "outputs": [
        {
          "output_type": "stream",
          "name": "stdout",
          "text": [
            "Model: \"sequential\"\n",
            "_________________________________________________________________\n",
            " Layer (type)                Output Shape              Param #   \n",
            "=================================================================\n",
            " embedding (Embedding)       (None, 100, 40)           200000    \n",
            "                                                                 \n",
            " dropout (Dropout)           (None, 100, 40)           0         \n",
            "                                                                 \n",
            " lstm (LSTM)                 (None, 50)                18200     \n",
            "                                                                 \n",
            " dropout_1 (Dropout)         (None, 50)                0         \n",
            "                                                                 \n",
            " dense (Dense)               (None, 32)                1632      \n",
            "                                                                 \n",
            " dropout_2 (Dropout)         (None, 32)                0         \n",
            "                                                                 \n",
            " dense_1 (Dense)             (None, 1)                 33        \n",
            "                                                                 \n",
            "=================================================================\n",
            "Total params: 219,865\n",
            "Trainable params: 219,865\n",
            "Non-trainable params: 0\n",
            "_________________________________________________________________\n",
            "None\n"
          ]
        }
      ]
    },
    {
      "cell_type": "code",
      "metadata": {
        "id": "3TqtxaVO-lxP",
        "colab": {
          "base_uri": "https://localhost:8080/"
        },
        "outputId": "366285bc-cf5e-4842-db1a-f3cebe0b5dd9"
      },
      "source": [
        "X_final=np.array(embd)\n",
        "y_final=np.array(y)\n",
        "x_train, x_test, y_train, y_test = train_test_split(X_final, y_final, test_size=0.2)\n",
        "model.fit(x_train,y_train,epochs=5,batch_size=64)"
      ],
      "execution_count": null,
      "outputs": [
        {
          "output_type": "stream",
          "name": "stdout",
          "text": [
            "Epoch 1/5\n",
            "260/260 [==============================] - 19s 66ms/step - loss: 0.3469 - accuracy: 0.8374\n",
            "Epoch 2/5\n",
            "260/260 [==============================] - 17s 66ms/step - loss: 0.1599 - accuracy: 0.9398\n",
            "Epoch 3/5\n",
            "260/260 [==============================] - 17s 67ms/step - loss: 0.1075 - accuracy: 0.9612\n",
            "Epoch 4/5\n",
            "260/260 [==============================] - 17s 67ms/step - loss: 0.0704 - accuracy: 0.9742\n",
            "Epoch 5/5\n",
            "260/260 [==============================] - 17s 66ms/step - loss: 0.0473 - accuracy: 0.9831\n"
          ]
        },
        {
          "output_type": "execute_result",
          "data": {
            "text/plain": [
              "<keras.callbacks.History at 0x7f794b82ad90>"
            ]
          },
          "metadata": {},
          "execution_count": 34
        }
      ]
    },
    {
      "cell_type": "code",
      "metadata": {
        "id": "N-LH-tBxIJtz"
      },
      "source": [
        "model.save('/content/drive/MyDrive/fake_news_NLP_Project/models/lstm_one_hot.h5')"
      ],
      "execution_count": null,
      "outputs": []
    },
    {
      "cell_type": "code",
      "metadata": {
        "id": "tX1_bqt_A9Fs",
        "colab": {
          "base_uri": "https://localhost:8080/"
        },
        "outputId": "8a2c70d3-82ce-4a59-9d4c-e2ffa2eafdc0"
      },
      "source": [
        "from keras.models import load_model\n",
        "mdl = load_model('/content/drive/MyDrive/fake_news_NLP_Project/models/lstm_one_hot.h5')\n",
        "\n",
        "y_pred=(mdl.predict(x_test)>=0.5).astype(int)\n",
        "accuracy_score(y_test,y_pred)"
      ],
      "execution_count": null,
      "outputs": [
        {
          "output_type": "execute_result",
          "data": {
            "text/plain": [
              "0.9081730769230769"
            ]
          },
          "metadata": {},
          "execution_count": 36
        }
      ]
    },
    {
      "cell_type": "code",
      "metadata": {
        "id": "DtOJfJr4DSpN"
      },
      "source": [
        "# ebd_feat = 40\n",
        "# model  = Sequential()\n",
        "# model.add(Embedding(voc_size, ebd_feat, input_length=25))\n",
        "# model.add(Dropout(0.2))\n",
        "# model.add(Bidirectional(LSTM(100)))\n",
        "# model.add(Dropout(0.2))\n",
        "# model.add(Dense(1, activation='sigmoid'))\n",
        "# model.compile(loss='binary_crossentropy', optimizer='adam', metrics=['accuracy'])\n",
        "# model.summary()\n"
      ],
      "execution_count": null,
      "outputs": []
    },
    {
      "cell_type": "code",
      "metadata": {
        "id": "sCEEi1moo80_"
      },
      "source": [
        "# model.fit(x_train,y_train,epochs=3,validation_data=(x_test, y_test), batch_size=64)"
      ],
      "execution_count": null,
      "outputs": []
    },
    {
      "cell_type": "code",
      "metadata": {
        "id": "a1NYnsxGqXbF"
      },
      "source": [
        "# y_pred=(model.predict(x_test)>=0.5).astype(int)\n",
        "# accuracy_score(y_test,y_pred)"
      ],
      "execution_count": null,
      "outputs": []
    },
    {
      "cell_type": "code",
      "metadata": {
        "id": "9AeRqg8CqsS_"
      },
      "source": [
        ""
      ],
      "execution_count": null,
      "outputs": []
    },
    {
      "cell_type": "code",
      "metadata": {
        "id": "ItQqIzLN2ee7"
      },
      "source": [
        "from sklearn.feature_extraction.text import CountVectorizer"
      ],
      "execution_count": null,
      "outputs": []
    },
    {
      "cell_type": "code",
      "metadata": {
        "id": "6nYeKe8CnKxk"
      },
      "source": [
        "cVect = CountVectorizer(max_features=5000)\n",
        "x = cVect.fit_transform(corpus)"
      ],
      "execution_count": null,
      "outputs": []
    },
    {
      "cell_type": "code",
      "metadata": {
        "id": "KZsPkOgUmy1E"
      },
      "source": [
        "cv_models_score = {}\n",
        "cv_models_cm = {}"
      ],
      "execution_count": null,
      "outputs": []
    },
    {
      "cell_type": "code",
      "metadata": {
        "id": "mt3r-_Ipmy1L"
      },
      "source": [
        "x_train , x_test, y_train, y_test = train_test_split(x, y, test_size=0.2)"
      ],
      "execution_count": null,
      "outputs": []
    },
    {
      "cell_type": "code",
      "metadata": {
        "id": "hEcPA8UHmy1L",
        "colab": {
          "base_uri": "https://localhost:8080/"
        },
        "outputId": "d237f3cb-bd18-4579-b764-f28a594f4cd9"
      },
      "source": [
        "clf= MultinomialNB()\n",
        "clf.fit(x_train, y_train)\n",
        "pred = clf.predict(x_test)\n",
        "score = accuracy_score(y_test, pred)\n",
        "print(\"accuracy:   %0.3f\" % score)\n",
        "cm = confusion_matrix(y_test,pred)\n",
        "\n",
        "filename = 'multinomialNB_cv.sav'\n",
        "pickle.dump(clf, open('/content/drive/MyDrive/fake_news_NLP_Project/models/'+filename, 'wb'))\n",
        "cv_models_score['Multinomial NB'] = score\n",
        "cv_models_cm['Multinomial NB'] = cm"
      ],
      "execution_count": null,
      "outputs": [
        {
          "output_type": "stream",
          "name": "stdout",
          "text": [
            "accuracy:   0.892\n"
          ]
        }
      ]
    },
    {
      "cell_type": "code",
      "metadata": {
        "id": "xjgAqLDomy1L",
        "colab": {
          "base_uri": "https://localhost:8080/"
        },
        "outputId": "c2f485e7-57da-4473-aec0-92755bf4580a"
      },
      "source": [
        "clf= LogisticRegression()\n",
        "clf.fit(x_train, y_train)\n",
        "pred = clf.predict(x_test)\n",
        "score = accuracy_score(y_test, pred)\n",
        "print(\"accuracy:   %0.3f\" % score)\n",
        "cm = confusion_matrix(y_test,pred)\n",
        "\n",
        "filename = 'LogisticRegression_cv.sav'\n",
        "pickle.dump(clf, open('/content/drive/MyDrive/fake_news_NLP_Project/models/'+filename, 'wb'))\n",
        "cv_models_score['Logistic Regression'] = score\n",
        "cv_models_cm['Logistic Regression'] = cm"
      ],
      "execution_count": null,
      "outputs": [
        {
          "output_type": "stream",
          "name": "stdout",
          "text": [
            "accuracy:   0.963\n"
          ]
        },
        {
          "output_type": "stream",
          "name": "stderr",
          "text": [
            "/usr/local/lib/python3.7/dist-packages/sklearn/linear_model/_logistic.py:818: ConvergenceWarning: lbfgs failed to converge (status=1):\n",
            "STOP: TOTAL NO. of ITERATIONS REACHED LIMIT.\n",
            "\n",
            "Increase the number of iterations (max_iter) or scale the data as shown in:\n",
            "    https://scikit-learn.org/stable/modules/preprocessing.html\n",
            "Please also refer to the documentation for alternative solver options:\n",
            "    https://scikit-learn.org/stable/modules/linear_model.html#logistic-regression\n",
            "  extra_warning_msg=_LOGISTIC_SOLVER_CONVERGENCE_MSG,\n"
          ]
        }
      ]
    },
    {
      "cell_type": "code",
      "metadata": {
        "id": "chyV6P3ymy1M",
        "colab": {
          "base_uri": "https://localhost:8080/"
        },
        "outputId": "296c6e59-3b87-4880-dc7e-c4a38059f115"
      },
      "source": [
        "clf= DecisionTreeClassifier()\n",
        "clf.fit(x_train, y_train)\n",
        "pred = clf.predict(x_test)\n",
        "score = accuracy_score(y_test, pred)\n",
        "print(\"accuracy:   %0.3f\" % score)\n",
        "cm = confusion_matrix(y_test,pred)\n",
        "\n",
        "filename = 'DecisionTreeClassifier_cv.sav'\n",
        "pickle.dump(clf, open('/content/drive/MyDrive/fake_news_NLP_Project/models/'+filename, 'wb'))\n",
        "cv_models_score['Decision Tree Classifier'] = score\n",
        "cv_models_cm['Decision Tree Classifier'] = cm"
      ],
      "execution_count": null,
      "outputs": [
        {
          "output_type": "stream",
          "name": "stdout",
          "text": [
            "accuracy:   0.943\n"
          ]
        }
      ]
    },
    {
      "cell_type": "code",
      "metadata": {
        "id": "E1Ql2RrYmy1M",
        "colab": {
          "base_uri": "https://localhost:8080/"
        },
        "outputId": "4fdea017-1ccd-4c63-f694-7ec64d5c1a2d"
      },
      "source": [
        "clf= RandomForestClassifier()\n",
        "clf.fit(x_train, y_train)\n",
        "pred = clf.predict(x_test)\n",
        "score = accuracy_score(y_test, pred)\n",
        "print(\"accuracy:   %0.3f\" % score)\n",
        "cm = confusion_matrix(y_test,pred)\n",
        "\n",
        "filename = 'RandomForestClassifier_cv.sav'\n",
        "pickle.dump(clf, open('/content/drive/MyDrive/fake_news_NLP_Project/models/'+filename, 'wb'))\n",
        "cv_models_score['Random Forest Classifier'] = score\n",
        "cv_models_cm['Random Forest Classifier'] = cm"
      ],
      "execution_count": null,
      "outputs": [
        {
          "output_type": "stream",
          "name": "stdout",
          "text": [
            "accuracy:   0.969\n"
          ]
        }
      ]
    },
    {
      "cell_type": "code",
      "metadata": {
        "id": "9PYAHcw9n8Nz",
        "colab": {
          "base_uri": "https://localhost:8080/"
        },
        "outputId": "6323869f-4d66-47b0-ee68-afae6e3ee08c"
      },
      "source": [
        "for model in cv_models_score : \n",
        "    print(model, \" \", cv_models_score[model])"
      ],
      "execution_count": null,
      "outputs": [
        {
          "output_type": "stream",
          "name": "stdout",
          "text": [
            "Multinomial NB   0.8918269230769231\n",
            "Logistic Regression   0.9632211538461538\n",
            "Decision Tree Classifier   0.9427884615384615\n",
            "Random Forest Classifier   0.96875\n"
          ]
        }
      ]
    },
    {
      "cell_type": "code",
      "metadata": {
        "id": "2MlVU3whoYtf",
        "colab": {
          "base_uri": "https://localhost:8080/"
        },
        "outputId": "1a170e01-10c6-446c-98c9-ca060a347605"
      },
      "source": [
        "for model in models_score : \n",
        "    print(model, \" \", models_score[model])"
      ],
      "execution_count": null,
      "outputs": [
        {
          "output_type": "stream",
          "name": "stdout",
          "text": [
            "Multinomial NB   0.9108173076923077\n",
            "Logistic Regression   0.9617788461538461\n",
            "Decision Tree Classifier   0.9564903846153846\n",
            "Random Forest Classifier   0.9742788461538462\n",
            "Passive Aggressive   0.9658653846153846\n"
          ]
        }
      ]
    },
    {
      "cell_type": "code",
      "metadata": {
        "id": "1j6Ly6WMohHo"
      },
      "source": [
        ""
      ],
      "execution_count": null,
      "outputs": []
    },
    {
      "cell_type": "code",
      "metadata": {
        "id": "rCxrKQ3LvEMO"
      },
      "source": [
        ""
      ],
      "execution_count": null,
      "outputs": []
    },
    {
      "cell_type": "code",
      "metadata": {
        "id": "Y0565PadvEHv"
      },
      "source": [
        ""
      ],
      "execution_count": null,
      "outputs": []
    },
    {
      "cell_type": "code",
      "metadata": {
        "id": "2TBWBjHUvFJD"
      },
      "source": [
        ""
      ],
      "execution_count": null,
      "outputs": []
    },
    {
      "cell_type": "code",
      "metadata": {
        "id": "0PV9cZuczTfd"
      },
      "source": [
        "tokenizer = Tokenizer()\n",
        "tokenizer.fit_on_texts(corpus)\n",
        "word_to_index = tokenizer.word_index\n",
        "x = tokenizer.texts_to_sequences(corpus)"
      ],
      "execution_count": null,
      "outputs": []
    },
    {
      "cell_type": "code",
      "metadata": {
        "id": "hiBzVBFS0Joa"
      },
      "source": [
        "voc_sz =  len(word_to_index)   #defining the total vocabulary size\n",
        "oov_tok = \"UNK\"     #setting out of vocabulary token to Unknown\n",
        "max_len = 250    #defining the maximum length\n",
        "emb_dim = 50  #embedding dimensions"
      ],
      "execution_count": null,
      "outputs": []
    },
    {
      "cell_type": "code",
      "metadata": {
        "id": "zYzvBU160XKV"
      },
      "source": [
        "x = pad_sequences(x, maxlen=max_len)"
      ],
      "execution_count": null,
      "outputs": []
    },
    {
      "cell_type": "code",
      "metadata": {
        "id": "7HCgTG8a0d14"
      },
      "source": [
        "embeddings_index = {};\n",
        "with open('/content/drive/MyDrive/fake_news_NLP_Project/Embeddings/glove.6B.50d.txt') as f:\n",
        "    for line in f:\n",
        "        values = line.split();\n",
        "        word = values[0];\n",
        "        coefs = np.asarray(values[1:], dtype='float32');\n",
        "        embeddings_index[word] = coefs;\n",
        "\n",
        "embeddings_matrix = np.zeros((voc_sz+1, emb_dim));\n",
        "for word, i in word_to_index.items():\n",
        "    embedding_vector = embeddings_index.get(word);\n",
        "    if embedding_vector is not None:\n",
        "        embeddings_matrix[i] = embedding_vector;"
      ],
      "execution_count": null,
      "outputs": []
    },
    {
      "cell_type": "code",
      "metadata": {
        "id": "S7Vo5jP35GU7"
      },
      "source": [
        "X_train,X_test,y_train,y_test = train_test_split(x,y,test_size=0.20)"
      ],
      "execution_count": null,
      "outputs": []
    },
    {
      "cell_type": "code",
      "metadata": {
        "id": "LvVTkgII64qt",
        "colab": {
          "base_uri": "https://localhost:8080/"
        },
        "outputId": "0d0959c9-c902-4a59-cf0b-99c665925f2b"
      },
      "source": [
        "import tensorflow as tf\n",
        "model = tf.keras.Sequential([\n",
        "    tf.keras.layers.Embedding(voc_sz+1, emb_dim, input_length=max_len, weights=[embeddings_matrix], trainable=True),\n",
        "    tf.keras.layers.LSTM(32,return_sequences=True),\n",
        "    tf.keras.layers.Dropout(0.2),\n",
        "    tf.keras.layers.LSTM(16),\n",
        "    tf.keras.layers.Dropout(0.1),\n",
        "    tf.keras.layers.Dense(8, activation='relu'),\n",
        "    tf.keras.layers.Dense(1, activation='sigmoid')\n",
        "])\n",
        "model.compile(loss='binary_crossentropy',optimizer='adam',metrics=['accuracy'])\n",
        "model.summary()"
      ],
      "execution_count": null,
      "outputs": [
        {
          "output_type": "stream",
          "name": "stdout",
          "text": [
            "Model: \"sequential_1\"\n",
            "_________________________________________________________________\n",
            " Layer (type)                Output Shape              Param #   \n",
            "=================================================================\n",
            " embedding_1 (Embedding)     (None, 250, 50)           7461550   \n",
            "                                                                 \n",
            " lstm_1 (LSTM)               (None, 250, 32)           10624     \n",
            "                                                                 \n",
            " dropout_3 (Dropout)         (None, 250, 32)           0         \n",
            "                                                                 \n",
            " lstm_2 (LSTM)               (None, 16)                3136      \n",
            "                                                                 \n",
            " dropout_4 (Dropout)         (None, 16)                0         \n",
            "                                                                 \n",
            " dense_2 (Dense)             (None, 8)                 136       \n",
            "                                                                 \n",
            " dense_3 (Dense)             (None, 1)                 9         \n",
            "                                                                 \n",
            "=================================================================\n",
            "Total params: 7,475,455\n",
            "Trainable params: 7,475,455\n",
            "Non-trainable params: 0\n",
            "_________________________________________________________________\n"
          ]
        }
      ]
    },
    {
      "cell_type": "code",
      "metadata": {
        "id": "uXvd5C5JMJTP"
      },
      "source": [
        ""
      ],
      "execution_count": null,
      "outputs": []
    },
    {
      "cell_type": "code",
      "metadata": {
        "id": "NhpG06K3L7xC"
      },
      "source": [
        ""
      ],
      "execution_count": null,
      "outputs": []
    },
    {
      "cell_type": "code",
      "metadata": {
        "id": "Sk8EgwOg67hg",
        "colab": {
          "base_uri": "https://localhost:8080/"
        },
        "outputId": "fd0cc46b-514b-4be0-a4c0-560216333f42"
      },
      "source": [
        "epochs = 4\n",
        "history = model.fit(X_train,y_train,epochs=epochs,validation_data=(X_test,y_test),batch_size=128)\n",
        "model.save('/content/drive/MyDrive/fake_news_NLP_Project/models/lstm_glove_embedding.h5')"
      ],
      "execution_count": null,
      "outputs": [
        {
          "output_type": "stream",
          "name": "stdout",
          "text": [
            "Epoch 1/4\n",
            "130/130 [==============================] - 51s 369ms/step - loss: 0.5117 - accuracy: 0.7651 - val_loss: 0.3716 - val_accuracy: 0.8490\n",
            "Epoch 2/4\n",
            "130/130 [==============================] - 47s 363ms/step - loss: 0.3051 - accuracy: 0.8833 - val_loss: 0.2817 - val_accuracy: 0.8839\n",
            "Epoch 3/4\n",
            "130/130 [==============================] - 47s 362ms/step - loss: 0.2090 - accuracy: 0.9240 - val_loss: 0.2278 - val_accuracy: 0.9108\n",
            "Epoch 4/4\n",
            "130/130 [==============================] - 52s 402ms/step - loss: 0.1469 - accuracy: 0.9480 - val_loss: 0.2524 - val_accuracy: 0.9094\n"
          ]
        }
      ]
    },
    {
      "cell_type": "code",
      "metadata": {
        "id": "xdzxKBCm6-oI",
        "colab": {
          "base_uri": "https://localhost:8080/"
        },
        "outputId": "72d6b480-68a7-40d8-b635-30559872e1ef"
      },
      "source": [
        "mdl = load_model('/content/drive/MyDrive/fake_news_NLP_Project/models/lstm_glove_embedding.h5')\n",
        "rslt = mdl.evaluate(X_test, y_test)\n",
        "loss = rslt[0]\n",
        "accuracy = rslt[1]\n",
        "\n",
        "print(\"accuracy : %f\" %accuracy)"
      ],
      "execution_count": null,
      "outputs": [
        {
          "output_type": "stream",
          "name": "stdout",
          "text": [
            "130/130 [==============================] - 6s 39ms/step - loss: 0.2524 - accuracy: 0.9094\n",
            "accuracy : 0.909375\n"
          ]
        }
      ]
    },
    {
      "cell_type": "code",
      "metadata": {
        "id": "VHETa8CHbYb3"
      },
      "source": [
        ""
      ],
      "execution_count": null,
      "outputs": []
    },
    {
      "cell_type": "code",
      "metadata": {
        "id": "ZfDBPr9eOE9g",
        "colab": {
          "base_uri": "https://localhost:8080/"
        },
        "outputId": "461ec40d-74c4-4cda-8a2d-c523bb16678c"
      },
      "source": [
        "model = tf.keras.Sequential([\n",
        "    tf.keras.layers.Embedding(voc_sz+1, emb_dim, input_length=max_len, weights=[embeddings_matrix], trainable=True),\n",
        "    tf.keras.layers.Conv1D(filters = 64, kernel_size=1, activation='relu'),\n",
        "    tf.keras.layers.MaxPooling1D(pool_size=4),\n",
        "    tf.keras.layers.Bidirectional(LSTM(32)),\n",
        "    tf.keras.layers.Dropout(0.2),\n",
        "    tf.keras.layers.Dense(16, activation='relu'),\n",
        "    tf.keras.layers.Dense(1, activation='sigmoid')])\n",
        "model.compile(loss='binary_crossentropy',optimizer='adam',metrics=['accuracy'])\n",
        "model.summary()"
      ],
      "execution_count": null,
      "outputs": [
        {
          "output_type": "stream",
          "name": "stdout",
          "text": [
            "Model: \"sequential_4\"\n",
            "_________________________________________________________________\n",
            " Layer (type)                Output Shape              Param #   \n",
            "=================================================================\n",
            " embedding_4 (Embedding)     (None, 250, 50)           7461550   \n",
            "                                                                 \n",
            " conv1d_2 (Conv1D)           (None, 250, 64)           3264      \n",
            "                                                                 \n",
            " max_pooling1d_2 (MaxPooling  (None, 62, 64)           0         \n",
            " 1D)                                                             \n",
            "                                                                 \n",
            " bidirectional_2 (Bidirectio  (None, 64)               24832     \n",
            " nal)                                                            \n",
            "                                                                 \n",
            " dropout_7 (Dropout)         (None, 64)                0         \n",
            "                                                                 \n",
            " dense_8 (Dense)             (None, 16)                1040      \n",
            "                                                                 \n",
            " dense_9 (Dense)             (None, 1)                 17        \n",
            "                                                                 \n",
            "=================================================================\n",
            "Total params: 7,490,703\n",
            "Trainable params: 7,490,703\n",
            "Non-trainable params: 0\n",
            "_________________________________________________________________\n"
          ]
        }
      ]
    }
  ]
}